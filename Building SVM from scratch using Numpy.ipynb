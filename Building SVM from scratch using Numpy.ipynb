{
 "cells": [
  {
   "cell_type": "markdown",
   "metadata": {},
   "source": [
    "# Note :\n",
    "\n",
    "1. We will be using iris DataSet because of it's Linear nature / Linearly seperable data points among different species/target .\n",
    "2. We will be considering a binary classification for ease instead of multi-class classification .\n"
   ]
  },
  {
   "cell_type": "code",
   "execution_count": 1,
   "metadata": {},
   "outputs": [],
   "source": [
    "import pandas as pd\n",
    "import numpy as np\n",
    "import sklearn\n",
    "import seaborn as sns\n",
    "from sklearn import datasets"
   ]
  },
  {
   "cell_type": "code",
   "execution_count": 11,
   "metadata": {},
   "outputs": [
    {
     "data": {
      "text/html": [
       "<div>\n",
       "<style scoped>\n",
       "    .dataframe tbody tr th:only-of-type {\n",
       "        vertical-align: middle;\n",
       "    }\n",
       "\n",
       "    .dataframe tbody tr th {\n",
       "        vertical-align: top;\n",
       "    }\n",
       "\n",
       "    .dataframe thead th {\n",
       "        text-align: right;\n",
       "    }\n",
       "</style>\n",
       "<table border=\"1\" class=\"dataframe\">\n",
       "  <thead>\n",
       "    <tr style=\"text-align: right;\">\n",
       "      <th></th>\n",
       "      <th>sepal length (cm)</th>\n",
       "      <th>sepal width (cm)</th>\n",
       "    </tr>\n",
       "  </thead>\n",
       "  <tbody>\n",
       "    <tr>\n",
       "      <th>0</th>\n",
       "      <td>5.1</td>\n",
       "      <td>3.5</td>\n",
       "    </tr>\n",
       "    <tr>\n",
       "      <th>1</th>\n",
       "      <td>4.9</td>\n",
       "      <td>3.0</td>\n",
       "    </tr>\n",
       "    <tr>\n",
       "      <th>2</th>\n",
       "      <td>4.7</td>\n",
       "      <td>3.2</td>\n",
       "    </tr>\n",
       "    <tr>\n",
       "      <th>3</th>\n",
       "      <td>4.6</td>\n",
       "      <td>3.1</td>\n",
       "    </tr>\n",
       "    <tr>\n",
       "      <th>4</th>\n",
       "      <td>5.0</td>\n",
       "      <td>3.6</td>\n",
       "    </tr>\n",
       "    <tr>\n",
       "      <th>...</th>\n",
       "      <td>...</td>\n",
       "      <td>...</td>\n",
       "    </tr>\n",
       "    <tr>\n",
       "      <th>145</th>\n",
       "      <td>6.7</td>\n",
       "      <td>3.0</td>\n",
       "    </tr>\n",
       "    <tr>\n",
       "      <th>146</th>\n",
       "      <td>6.3</td>\n",
       "      <td>2.5</td>\n",
       "    </tr>\n",
       "    <tr>\n",
       "      <th>147</th>\n",
       "      <td>6.5</td>\n",
       "      <td>3.0</td>\n",
       "    </tr>\n",
       "    <tr>\n",
       "      <th>148</th>\n",
       "      <td>6.2</td>\n",
       "      <td>3.4</td>\n",
       "    </tr>\n",
       "    <tr>\n",
       "      <th>149</th>\n",
       "      <td>5.9</td>\n",
       "      <td>3.0</td>\n",
       "    </tr>\n",
       "  </tbody>\n",
       "</table>\n",
       "<p>150 rows × 2 columns</p>\n",
       "</div>"
      ],
      "text/plain": [
       "     sepal length (cm)  sepal width (cm)\n",
       "0                  5.1               3.5\n",
       "1                  4.9               3.0\n",
       "2                  4.7               3.2\n",
       "3                  4.6               3.1\n",
       "4                  5.0               3.6\n",
       "..                 ...               ...\n",
       "145                6.7               3.0\n",
       "146                6.3               2.5\n",
       "147                6.5               3.0\n",
       "148                6.2               3.4\n",
       "149                5.9               3.0\n",
       "\n",
       "[150 rows x 2 columns]"
      ]
     },
     "execution_count": 11,
     "metadata": {},
     "output_type": "execute_result"
    }
   ],
   "source": [
    "data = datasets.load_iris()\n",
    "data.keys()\n",
    "data2 = data.data[:,:2]\n",
    "names = data.feature_names[:2]\n",
    "df = pd.DataFrame(data = data2 , columns = names)\n",
    "\n",
    "target_names = data.target_names\n",
    "y = data.target\n",
    "df"
   ]
  },
  {
   "cell_type": "code",
   "execution_count": 12,
   "metadata": {},
   "outputs": [
    {
     "data": {
      "text/html": [
       "<div>\n",
       "<style scoped>\n",
       "    .dataframe tbody tr th:only-of-type {\n",
       "        vertical-align: middle;\n",
       "    }\n",
       "\n",
       "    .dataframe tbody tr th {\n",
       "        vertical-align: top;\n",
       "    }\n",
       "\n",
       "    .dataframe thead th {\n",
       "        text-align: right;\n",
       "    }\n",
       "</style>\n",
       "<table border=\"1\" class=\"dataframe\">\n",
       "  <thead>\n",
       "    <tr style=\"text-align: right;\">\n",
       "      <th></th>\n",
       "      <th>sepal length (cm)</th>\n",
       "      <th>sepal width (cm)</th>\n",
       "    </tr>\n",
       "  </thead>\n",
       "  <tbody>\n",
       "    <tr>\n",
       "      <th>0</th>\n",
       "      <td>5.1</td>\n",
       "      <td>3.5</td>\n",
       "    </tr>\n",
       "    <tr>\n",
       "      <th>1</th>\n",
       "      <td>4.9</td>\n",
       "      <td>3.0</td>\n",
       "    </tr>\n",
       "    <tr>\n",
       "      <th>2</th>\n",
       "      <td>4.7</td>\n",
       "      <td>3.2</td>\n",
       "    </tr>\n",
       "    <tr>\n",
       "      <th>3</th>\n",
       "      <td>4.6</td>\n",
       "      <td>3.1</td>\n",
       "    </tr>\n",
       "    <tr>\n",
       "      <th>4</th>\n",
       "      <td>5.0</td>\n",
       "      <td>3.6</td>\n",
       "    </tr>\n",
       "    <tr>\n",
       "      <th>...</th>\n",
       "      <td>...</td>\n",
       "      <td>...</td>\n",
       "    </tr>\n",
       "    <tr>\n",
       "      <th>95</th>\n",
       "      <td>5.7</td>\n",
       "      <td>3.0</td>\n",
       "    </tr>\n",
       "    <tr>\n",
       "      <th>96</th>\n",
       "      <td>5.7</td>\n",
       "      <td>2.9</td>\n",
       "    </tr>\n",
       "    <tr>\n",
       "      <th>97</th>\n",
       "      <td>6.2</td>\n",
       "      <td>2.9</td>\n",
       "    </tr>\n",
       "    <tr>\n",
       "      <th>98</th>\n",
       "      <td>5.1</td>\n",
       "      <td>2.5</td>\n",
       "    </tr>\n",
       "    <tr>\n",
       "      <th>99</th>\n",
       "      <td>5.7</td>\n",
       "      <td>2.8</td>\n",
       "    </tr>\n",
       "  </tbody>\n",
       "</table>\n",
       "<p>100 rows × 2 columns</p>\n",
       "</div>"
      ],
      "text/plain": [
       "    sepal length (cm)  sepal width (cm)\n",
       "0                 5.1               3.5\n",
       "1                 4.9               3.0\n",
       "2                 4.7               3.2\n",
       "3                 4.6               3.1\n",
       "4                 5.0               3.6\n",
       "..                ...               ...\n",
       "95                5.7               3.0\n",
       "96                5.7               2.9\n",
       "97                6.2               2.9\n",
       "98                5.1               2.5\n",
       "99                5.7               2.8\n",
       "\n",
       "[100 rows x 2 columns]"
      ]
     },
     "execution_count": 12,
     "metadata": {},
     "output_type": "execute_result"
    }
   ],
   "source": [
    "# here we will be considering only 2 classes for binary-case .\n",
    "rows = list(range(100,150))\n",
    "df = df.drop(df.index[rows])\n",
    "df"
   ]
  },
  {
   "cell_type": "code",
   "execution_count": 13,
   "metadata": {},
   "outputs": [
    {
     "data": {
      "text/plain": [
       "0"
      ]
     },
     "execution_count": 13,
     "metadata": {},
     "output_type": "execute_result"
    }
   ],
   "source": [
    "# replacing binary-target with -1 and 1 so the overall product will not be 0 in case .\n",
    "y = data.target\n",
    "y_new = []\n",
    "for i in y:\n",
    "    if i == int(0):\n",
    "        y_new.append(-1)\n",
    "    else:\n",
    "        if i == int(1):\n",
    "            y_new.append(1)\n",
    "y_new.count(2)"
   ]
  },
  {
   "cell_type": "code",
   "execution_count": 14,
   "metadata": {},
   "outputs": [
    {
     "name": "stdout",
     "output_type": "stream",
     "text": [
      "(100, 3)\n"
     ]
    }
   ],
   "source": [
    "y_new = pd.Series(y_new , name = 'type')\n",
    "df = pd.concat([df,y_new],axis = 1)\n",
    "df['type'].value_counts()\n",
    "print(df.shape)"
   ]
  },
  {
   "cell_type": "code",
   "execution_count": 15,
   "metadata": {},
   "outputs": [
    {
     "data": {
      "text/plain": [
       " 1    50\n",
       "-1    50\n",
       "Name: type, dtype: int64"
      ]
     },
     "execution_count": 15,
     "metadata": {},
     "output_type": "execute_result"
    }
   ],
   "source": [
    "df['type'].value_counts()\n"
   ]
  },
  {
   "cell_type": "code",
   "execution_count": 16,
   "metadata": {},
   "outputs": [
    {
     "name": "stdout",
     "output_type": "stream",
     "text": [
      "['setosa' 'versicolor' 'virginica']\n"
     ]
    },
    {
     "data": {
      "text/plain": [
       "<matplotlib.collections.PathCollection at 0x18b5a5813a0>"
      ]
     },
     "execution_count": 16,
     "metadata": {},
     "output_type": "execute_result"
    },
    {
     "data": {
      "image/png": "[encoded data removed]",
      "text/plain": [
       "<Figure size 864x720 with 1 Axes>"
      ]
     },
     "metadata": {
      "needs_background": "light"
     },
     "output_type": "display_data"
    }
   ],
   "source": [
    "import matplotlib.pyplot as plt\n",
    "print(data.target_names)\n",
    "columns = df.columns.tolist()\n",
    "plt.figure(figsize= (12,10))\n",
    "setosa_x = df[columns[0]][:50]\n",
    "setosa_y = df[columns[1]][:50]\n",
    "\n",
    "varsicolor_x = df[columns[0]][50:]\n",
    "varsicolor_y = df[columns[1]][50:]\n",
    " \n",
    "plt.scatter(setosa_x  , setosa_y , marker=  '+')\n",
    "\n",
    "plt.scatter(varsicolor_x  , varsicolor_y , marker=  '_')"
   ]
  },
  {
   "cell_type": "markdown",
   "metadata": {},
   "source": [
    "# So above we can see that points are linearly separable"
   ]
  },
  {
   "cell_type": "code",
   "execution_count": 17,
   "metadata": {},
   "outputs": [
    {
     "data": {
      "text/plain": [
       "array([-1, -1, -1, -1, -1, -1, -1, -1, -1, -1, -1, -1, -1, -1, -1, -1, -1,\n",
       "       -1, -1, -1, -1, -1, -1, -1, -1, -1, -1, -1, -1, -1, -1, -1, -1, -1,\n",
       "       -1, -1, -1, -1, -1, -1, -1, -1, -1, -1, -1, -1, -1, -1, -1, -1,  1,\n",
       "        1,  1,  1,  1,  1,  1,  1,  1,  1,  1,  1,  1,  1,  1,  1,  1,  1,\n",
       "        1,  1,  1,  1,  1,  1,  1,  1,  1,  1,  1,  1,  1,  1,  1,  1,  1,\n",
       "        1,  1,  1,  1,  1,  1,  1,  1,  1,  1,  1,  1,  1,  1,  1],\n",
       "      dtype=int64)"
      ]
     },
     "execution_count": 17,
     "metadata": {},
     "output_type": "execute_result"
    }
   ],
   "source": [
    "X = df[columns[:2]].values\n",
    "X\n",
    "y_actual = df[columns[-1]].values\n",
    "y_actual"
   ]
  },
  {
   "cell_type": "code",
   "execution_count": 18,
   "metadata": {},
   "outputs": [],
   "source": [
    "from sklearn.utils import shuffle"
   ]
  },
  {
   "cell_type": "code",
   "execution_count": 20,
   "metadata": {},
   "outputs": [
    {
     "name": "stdout",
     "output_type": "stream",
     "text": [
      "(85, 2)\n",
      "(15, 2)\n",
      "(85,)\n",
      "(15,)\n"
     ]
    }
   ],
   "source": [
    "X , y_actual = shuffle(X,y_actual)\n",
    "\n",
    "from sklearn.model_selection import train_test_split\n",
    "X_train , X_test , y_train , y_test = train_test_split(X,y_actual , train_size = 0.85 , random_state = 42)\n",
    "print(X_train.shape)\n",
    "print(X_test.shape)\n",
    "print(y_train.shape)\n",
    "print(y_test.shape)"
   ]
  },
  {
   "cell_type": "code",
   "execution_count": 34,
   "metadata": {
    "scrolled": true
   },
   "outputs": [
    {
     "name": "stdout",
     "output_type": "stream",
     "text": [
      "(85, 1)\n"
     ]
    },
    {
     "data": {
      "text/plain": [
       "array([[6.1],\n",
       "       [4.6],\n",
       "       [5.1],\n",
       "       [5.1],\n",
       "       [5.5],\n",
       "       [6.6],\n",
       "       [5.4],\n",
       "       [4.6],\n",
       "       [5.5],\n",
       "       [5.4],\n",
       "       [6.8],\n",
       "       [5. ],\n",
       "       [6.4],\n",
       "       [6. ],\n",
       "       [6. ],\n",
       "       [5.8],\n",
       "       [5. ],\n",
       "       [6. ],\n",
       "       [4.9],\n",
       "       [5.9],\n",
       "       [5.6],\n",
       "       [7. ],\n",
       "       [5.5],\n",
       "       [5.6],\n",
       "       [5.1],\n",
       "       [6. ],\n",
       "       [4.4],\n",
       "       [6.1],\n",
       "       [6.7],\n",
       "       [6.1],\n",
       "       [5.7],\n",
       "       [5. ],\n",
       "       [5.3],\n",
       "       [5.1],\n",
       "       [5.6],\n",
       "       [6.7],\n",
       "       [5.7],\n",
       "       [5.5],\n",
       "       [5.9],\n",
       "       [6.2],\n",
       "       [6.1],\n",
       "       [5.7],\n",
       "       [4.8],\n",
       "       [6.3],\n",
       "       [4.7],\n",
       "       [5.4],\n",
       "       [5.2],\n",
       "       [4.9],\n",
       "       [5.6],\n",
       "       [5.1],\n",
       "       [4.8],\n",
       "       [5.2],\n",
       "       [5. ],\n",
       "       [6.3],\n",
       "       [5.1],\n",
       "       [4.7],\n",
       "       [6.2],\n",
       "       [5.4],\n",
       "       [5.4],\n",
       "       [4.9],\n",
       "       [4.8],\n",
       "       [4.8],\n",
       "       [5.4],\n",
       "       [4.3],\n",
       "       [5. ],\n",
       "       [5.7],\n",
       "       [5.1],\n",
       "       [5.7],\n",
       "       [6.3],\n",
       "       [4.8],\n",
       "       [4.9],\n",
       "       [4.6],\n",
       "       [5. ],\n",
       "       [5.8],\n",
       "       [4.6],\n",
       "       [5.2],\n",
       "       [5.8],\n",
       "       [5.6],\n",
       "       [6.9],\n",
       "       [5.1],\n",
       "       [5. ],\n",
       "       [5.7],\n",
       "       [5. ],\n",
       "       [4.4],\n",
       "       [5.8]])"
      ]
     },
     "execution_count": 34,
     "metadata": {},
     "output_type": "execute_result"
    }
   ],
   "source": [
    "feature_1 = X_train[:,0]\n",
    "feature_2 = X_train[:,1]\n",
    "\n",
    "feature_1 = feature_1.reshape(85,1)\n",
    "feature_2 = feature_2.reshape(85,1)\n",
    "print(feature_1.shape)\n",
    "feature_1\n"
   ]
  },
  {
   "cell_type": "markdown",
   "metadata": {},
   "source": [
    "# Building SVM model"
   ]
  },
  {
   "cell_type": "code",
   "execution_count": 49,
   "metadata": {
    "scrolled": true
   },
   "outputs": [
    {
     "name": "stdout",
     "output_type": "stream",
     "text": [
      "0.9411764705882353\n"
     ]
    }
   ],
   "source": [
    "# Weights used for updating initially we use 0 for all entries\n",
    "\n",
    "w1 = np.zeros((85,1))\n",
    "w2 = np.zeros((85,1))\n",
    "\n",
    "# alpha is used as regularization parameter that reduces as the No.of epoch increases .\n",
    "epoch = 1\n",
    "alpha = 0.001\n",
    "\n",
    "y_train = y_train.reshape((85,1))\n",
    "while epoch <= 1000:\n",
    "    y = w1*feature_1 + w2*feature_2\n",
    "    prod = y*y_train\n",
    "    \n",
    "    count = 0\n",
    "    for val in prod:\n",
    "        if val >= 1:\n",
    "            cost = 0\n",
    "            w1 = w1 - alpha*(2*1/epoch*w1)\n",
    "            w2 = w2 - alpha*(2*1/epoch*w2)\n",
    "        else:\n",
    "            cost = 1 - val\n",
    "            w1 = w1 + alpha*(y_train[count]*feature_1[count] - 2*1/epoch*w1)\n",
    "            w2 = w2 + alpha*(y_train[count]*feature_2[count] - 2*1/epoch*w2)\n",
    "        count += 1\n",
    "    epoch += 1\n",
    "\n",
    "predictions = []\n",
    "for val in y:\n",
    "    if(val > 1):\n",
    "        predictions.append(1)\n",
    "    else:\n",
    "        predictions.append(-1)\n",
    "\n",
    "from sklearn.metrics import accuracy_score        \n",
    "print(accuracy_score(y_train, predictions))\n"
   ]
  },
  {
   "cell_type": "markdown",
   "metadata": {},
   "source": [
    "###  So above we can see that our train accuracy is 94.11%  , let us try and check on test DataSet ."
   ]
  },
  {
   "cell_type": "code",
   "execution_count": 50,
   "metadata": {},
   "outputs": [],
   "source": [
    "# Cliping the weights\n",
    " \n",
    "index = list(range(15,85))\n",
    "w1 = np.delete(w1,index)\n",
    "w2 = np.delete(w2,index)\n",
    "\n",
    "w1 = w1.reshape(15,1)\n",
    "w2 = w2.reshape(15,1)"
   ]
  },
  {
   "cell_type": "code",
   "execution_count": 51,
   "metadata": {},
   "outputs": [
    {
     "name": "stdout",
     "output_type": "stream",
     "text": [
      "(15,)\n",
      "(15, 1)\n"
     ]
    }
   ],
   "source": [
    "## Extract the test data features \n",
    "test_f1 = X_test[:,0]\n",
    "test_f2 = X_test[:,1]\n",
    "print(test_f1.shape)\n",
    "test_f1 = test_f1.reshape(15,1)\n",
    "test_f2 = test_f2.reshape(15,1)\n",
    "print(test_f1.shape)"
   ]
  },
  {
   "cell_type": "code",
   "execution_count": 52,
   "metadata": {},
   "outputs": [
    {
     "name": "stdout",
     "output_type": "stream",
     "text": [
      "0.9333333333333333\n"
     ]
    }
   ],
   "source": [
    "## Predict\n",
    "y_pred = w1 * test_f1 + w2 * test_f2\n",
    "predictions = []\n",
    "for val in y_pred:\n",
    "    if(val > 1):\n",
    "        predictions.append(1)\n",
    "    else:\n",
    "        predictions.append(-1)\n",
    "\n",
    "print(accuracy_score(y_test,predictions))\n"
   ]
  },
  {
   "cell_type": "code",
   "execution_count": 53,
   "metadata": {},
   "outputs": [
    {
     "name": "stdout",
     "output_type": "stream",
     "text": [
      "0.9333333333333333\n"
     ]
    }
   ],
   "source": [
    "import warnings\n",
    "warnings.filterwarnings('ignore')\n",
    "from sklearn.svm import SVC\n",
    "clf = SVC(kernel='linear')\n",
    "clf.fit(X_train,y_train)\n",
    "y_pred = clf.predict(X_test)\n",
    "print(accuracy_score(y_test,y_pred))"
   ]
  },
  {
   "cell_type": "markdown",
   "metadata": {},
   "source": [
    "# Cool !!!\n",
    "We are able to see the same accuracy on test DataSet , by using our custom model and pre-built sklearn model . "
   ]
  },
  {
   "cell_type": "code",
   "execution_count": null,
   "metadata": {},
   "outputs": [],
   "source": []
  }
 ],
 "metadata": {
  "kernelspec": {
   "display_name": "Python 3",
   "language": "python",
   "name": "python3"
  },
  "language_info": {
   "codemirror_mode": {
    "name": "ipython",
    "version": 3
   },
   "file_extension": ".py",
   "mimetype": "text/x-python",
   "name": "python",
   "nbconvert_exporter": "python",
   "pygments_lexer": "ipython3",
   "version": "3.8.5"
  }
 },
 "nbformat": 4,
 "nbformat_minor": 4
}
